{
    "nbformat_minor": 1, 
    "cells": [
        {
            "source": "# Data section", 
            "cell_type": "markdown", 
            "metadata": {
                "collapsed": true
            }
        }, 
        {
            "source": "The data that I will use will be purely taken from foursquare.com,\nand other municipal databases of the city of Rome, such as the list of hotel business in the capital,\nand other sensitive data to reach a solution to the problem of finding a location for the my new business.\n\nThanks to the data retrieved by foursquare.com,\nI will have a complete idea on the most interesting positions (best rating) of the city,\nso as to understand which is the most comfortable and most common area of the capital,\nto be reached with our new activity.", 
            "cell_type": "raw", 
            "metadata": {}
        }
    ], 
    "metadata": {
        "kernelspec": {
            "display_name": "Python 3.5", 
            "name": "python3", 
            "language": "python"
        }, 
        "language_info": {
            "mimetype": "text/x-python", 
            "nbconvert_exporter": "python", 
            "version": "3.5.5", 
            "name": "python", 
            "file_extension": ".py", 
            "pygments_lexer": "ipython3", 
            "codemirror_mode": {
                "version": 3, 
                "name": "ipython"
            }
        }
    }, 
    "nbformat": 4
}