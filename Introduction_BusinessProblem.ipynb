{
    "nbformat_minor": 1, 
    "cells": [
        {
            "source": "# Research best position for new hotel business through k-mean clustering on Rome", 
            "cell_type": "markdown", 
            "metadata": {
                "collapsed": true
            }
        }, 
        {
            "source": "I would like to face a problem that affects me personally,\nI live in Rome in Italy, and I have a hotel company, together with my business partner we are determined to expand our company,\nand thanks to my knowledge I thought to use the Foursquare database for decide the best location,\nselecting through the k-mean system,\nthe location with more attractions, activities, places of interest.", 
            "cell_type": "raw", 
            "metadata": {}
        }
    ], 
    "metadata": {
        "kernelspec": {
            "display_name": "Python 3.5", 
            "name": "python3", 
            "language": "python"
        }, 
        "language_info": {
            "mimetype": "text/x-python", 
            "nbconvert_exporter": "python", 
            "version": "3.5.5", 
            "name": "python", 
            "file_extension": ".py", 
            "pygments_lexer": "ipython3", 
            "codemirror_mode": {
                "version": 3, 
                "name": "ipython"
            }
        }
    }, 
    "nbformat": 4
}