{
    "nbformat_minor": 1, 
    "cells": [
        {
            "source": "# Research best position for new hotel business through clustering on Rome\n\n## Introduction\n\nI would like to face a problem that affects me personally, I live in Rome in Italy,\nand I have a hotel company, together with my business partner we are determined to expand our company,\nand thanks to my knowledge I thought to use the Foursquare database for decide the best location,\nselecting through the k-mean system, the location with more attractions, activities, places of interest.\n\n## Data section\nThe data that I will use will be purely taken from foursquare.com,\nand other municipal databases of the city of Rome,\nsuch as the list of hotel business in the capital from Rome municipal site (http://dati.comune.roma.it/cms/it/dettaglio_turismo_e_mob.page?contentId=DTS4655),\nand other sensitive data to reach a solution to the problem of finding a location for the my new business. Thanks to the data retrieved by foursquare.com,\nI will have a complete idea on the most interesting positions (best rating) of the city,\nso as to understand which is the most comfortable and most common area of the capital, to be reached with our new activity.\n\n## Metodology\nThe first approach to the problem was to find the right databases that could help us in this work to map the most important area of the capital,\nbut thanks to foursquere we managed to find a good starting point,\nimmediately after the site of the municipality of Rome with the list of the activities in the suburbs already present in the territory.\n\nI started by removing from the municipal database the hotel facilities with obvious errors of insertion,\ncontinuing with the elimination of the structures in the outlying area,\nthus having a greater idea of the hotel locations in the most tourist part of the city.\n\nThe second step was to ask Foursquere the most important structures in the capital,\nso you can print on map and view the geographical location of the warm heart of the city.\n\nOnce the most important area is circulated,\nI have prepared the database with the data of the most important structures in Rome to be able to send it in the Clustering process.\nAnd given that on the map the most important structures appeared fairly homogeneous,\nI decided to adopt the DBSCAN clustering model,\nas I had to choose only the minimum of the structures present in the Cluster and the minimum distance between the structures,\nleaving the heuristic algorithm the choice decisive of the number of Clusters and the choice of the data they contain.\n\nAfter the clustering process,\nthe algorithm presented 6 Cluster in output,\nof which the Cluster index 1 had 36 structures inside it,\nunlike the second cluster which had only 23.\n\nOnce I discovered the best cluster I took all the data contained in it and I generated the longitudinal and latitudinal average of the data,\nso as to discover the true center of the cluster,\nto finally discover the best place to start my new hotel business.\n\n## Results\n\nThe results have proved to be optimal,\nsince the area selected by the DBSCAN system proves to be one of the richest areas of history\nand interesting from the point of view of the services offered by the city of Rome,\nunlike many more famous quartires for a one or two point of interest,\nsuch as the \"Pantheon\" or \"Piazza Navona\".\n\n## Conclusion\n\nI do not think it was a task or an exam,\nI personally think it was an adventure,\nlike a treasure hunt,\nand now that I finally found the famous cross on the map indicating the treasure\nI thank all the people who have been through the Coursera portal very useful\nand to the professors who created this fantastic course.\n\nthank you", 
            "cell_type": "markdown", 
            "metadata": {
                "collapsed": true
            }
        }, 
        {
            "execution_count": null, 
            "cell_type": "code", 
            "metadata": {}, 
            "outputs": [], 
            "source": ""
        }
    ], 
    "metadata": {
        "kernelspec": {
            "display_name": "Python 3.5", 
            "name": "python3", 
            "language": "python"
        }, 
        "language_info": {
            "mimetype": "text/x-python", 
            "nbconvert_exporter": "python", 
            "version": "3.5.5", 
            "name": "python", 
            "file_extension": ".py", 
            "pygments_lexer": "ipython3", 
            "codemirror_mode": {
                "version": 3, 
                "name": "ipython"
            }
        }
    }, 
    "nbformat": 4
}